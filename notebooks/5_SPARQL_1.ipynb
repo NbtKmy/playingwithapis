{
 "cells": [
  {
   "cell_type": "markdown",
   "id": "d836e11b-bc71-4298-b663-ff2383c5790b",
   "metadata": {},
   "source": [
    "# SPARQL (SPARQL Protocol and RDF Query Language)\n",
    "\n",
    "Zweck: SPARQL ist eine standardisierte Abfragesprache für Daten im Resource Description Framework (RDF)-Format. Es ist die \"SQL des Semantic Web\".\n",
    "\n",
    "Anwendungsbereich: Es wird hauptsächlich für Wissensgraphen und vernetzte Daten verwendet, die als Tripel (Subjekt-Prädikat-Objekt) organisiert sind.\n",
    "\n",
    "Funktionalität: Mit SPARQL kannst du komplexe Abfragen über Beziehungen und Verknüpfungen zwischen verschiedenen Datenpunkten stellen. Zum Beispiel: \"Finde alle Städte, die die Hauptstadt eines Landes sind, in dem eine bestimmte Person geboren wurde.\" Die Abfrage ist datenorientiert und basiert auf dem Graphenmodell."
   ]
  }
 ],
 "metadata": {
  "kernelspec": {
   "display_name": "Python 3 (ipykernel)",
   "language": "python",
   "name": "python3"
  },
  "language_info": {
   "codemirror_mode": {
    "name": "ipython",
    "version": 3
   },
   "file_extension": ".py",
   "mimetype": "text/x-python",
   "name": "python",
   "nbconvert_exporter": "python",
   "pygments_lexer": "ipython3",
   "version": "3.11.11"
  }
 },
 "nbformat": 4,
 "nbformat_minor": 5
}
