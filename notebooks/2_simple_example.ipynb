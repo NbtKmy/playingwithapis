{
 "cells": [
  {
   "cell_type": "markdown",
   "id": "0bdf48e3-acdc-4635-9a83-a6354852991f",
   "metadata": {},
   "source": [
    "# Wie verwendet man eine API?\n",
    "Um eine API-Schnittstelle zu verwenden, braucht man die folgenden Sachen zu wissen:\n",
    "\n",
    "- Wie lautet der API-Endpoint?\n",
    "- Braucht man einen API-Key?\n",
    "- POST oder GET?\n",
    "- Wie soll man ein Query formulieren?\n",
    "- Welche Information soll ein Query-Header/-Body enthalten?\n",
    "- Wie sieht die Antwort aus?"
   ]
  },
  {
   "cell_type": "markdown",
   "id": "28ff99f1-8304-47dc-8238-7cb8538256d6",
   "metadata": {},
   "source": [
    "## Verwenden wir eine API-Schnittstelle!\n",
    "\n",
    "Hier in diesem Beispiel schauen wir gemeinsam \"[PokéAPI](https://pokeapi.co/)\" an! Bevor wir loslegen, schauen wir zuerst die Nutzungsregeln:\n",
    "\n",
    ">PokéAPI is free and open to use. It is also very popular. Because of this, we ask every developer to abide by our fair use policy. People not complying with the fair use policy will have their IP address permanently banned.\n",
    "\n",
    ">PokéAPI is primarily an educational tool, and we will not tolerate denial of service attacks preventing people from learning.\n",
    "\n",
    "Rules:\n",
    "\n",
    "- Locally cache resources whenever you request them.\n",
    "- Be nice and friendly to your fellow PokéAPI developers.\n",
    "- If you spot security vulnerabilities act and report them responsibly.\n",
    "\n",
    "\n",
    "Die Nutzungsregeln zu halten ist wichtig. Weil ...\n",
    "\n",
    "Okay! Dann gehen wir die 5 Punkte Schritt für Schritt!\n"
   ]
  },
  {
   "cell_type": "markdown",
   "id": "b5c23c8e-347d-4037-8591-43323eb4c249",
   "metadata": {},
   "source": [
    "## Wie lautet der API-Endpoint?\n",
    "\n",
    "Ein API-Endpoint ist wie ein Tor für API-Aufrufe/Anfrage. Durch den Endpoint empfängt der API-Server die Anfrage.\n",
    "Ohne den API-Endpoint zu wissen, kann man gar keine API-Anfrage losschicken.\n",
    "Ein API-Endpoint sieht wie ein URL aus:\n",
    "\n",
    "```\n",
    "https://pokeapi.co/api/v2/[hier kommt die Anfrage]\n",
    "```\n",
    "\n"
   ]
  },
  {
   "cell_type": "markdown",
   "id": "20f5ec2d-d652-4b03-a8c2-658042776c2f",
   "metadata": {},
   "source": [
    "## Braucht man einen API-Key?\n",
    "\n",
    "Um eine API-Anfrage zu dem API-Server weiterzureichen, braucht man eventuell einen API-Key oder API-Token oder sonst eine Authentizierungsdaten. Viele API-Schnittstelle ist nicht für alle Menschen freigelegt. \n",
    "Damit man von einer geschützten API-Schnittstelle die Rückmeldung erhält, muss man einen API-Key in der API-Anfrage mitschicken.\n",
    "\n",
    "PokéAPI ist, wie in der Beschreibung, eine offene und freie Schnittstelle. Deshalb braucht man hier in diesem Beispiel keinen API-Key!\n",
    "(PokéAPI ist deshalb sehr wertvoll!)"
   ]
  },
  {
   "cell_type": "markdown",
   "id": "b958c2f8-ff81-4ea5-80be-786eb83fb946",
   "metadata": {},
   "source": [
    "## POST oder GET?\n",
    "\n",
    "Solange man nur einen API-Endpoint und Query-Parameter braucht, verwendet man GET-Methode. Und Bei GET-Methode braucht man keinen Header/Body.\n",
    "\n",
    "\n"
   ]
  },
  {
   "cell_type": "markdown",
   "id": "99a9ca49-66e7-49ab-86a5-68ecd1e86ea9",
   "metadata": {},
   "source": [
    "## Wie soll man ein Query formulieren?\n",
    "\n"
   ]
  },
  {
   "cell_type": "markdown",
   "id": "59cda235-80f1-4351-80b7-e11adda55d3d",
   "metadata": {},
   "source": [
    "## Welche Information soll ein Query-Header/-Body enthalten?\n",
    "\n"
   ]
  },
  {
   "cell_type": "markdown",
   "id": "b8f6828c-e2b2-4ee6-b236-7885d7a2dd4a",
   "metadata": {},
   "source": [
    "## Wie sieht die Antwort aus?"
   ]
  }
 ],
 "metadata": {
  "kernelspec": {
   "display_name": "Python 3 (ipykernel)",
   "language": "python",
   "name": "python3"
  },
  "language_info": {
   "codemirror_mode": {
    "name": "ipython",
    "version": 3
   },
   "file_extension": ".py",
   "mimetype": "text/x-python",
   "name": "python",
   "nbconvert_exporter": "python",
   "pygments_lexer": "ipython3",
   "version": "3.11.11"
  }
 },
 "nbformat": 4,
 "nbformat_minor": 5
}
