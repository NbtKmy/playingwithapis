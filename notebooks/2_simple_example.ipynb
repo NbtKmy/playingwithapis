{
 "cells": [
  {
   "cell_type": "markdown",
   "id": "0bdf48e3-acdc-4635-9a83-a6354852991f",
   "metadata": {},
   "source": [
    "# Wie verwendet man eine API?\n",
    "Um eine API-Schnittstelle zu verwenden, braucht man die folgenden Sachen zu wissen:\n",
    "\n",
    "- Wie lautet der API-Endpoint?\n",
    "- Braucht man einen API-Key?\n",
    "- POST oder GET?\n",
    "- Wie soll man ein Query formulieren?\n",
    "- Welche Information soll ein Query-Header/-Body enthalten?\n",
    "- Wie sieht die Antwort aus?"
   ]
  },
  {
   "cell_type": "markdown",
   "id": "28ff99f1-8304-47dc-8238-7cb8538256d6",
   "metadata": {},
   "source": [
    "## Verwenden wir eine API-Schnittstelle!\n",
    "\n",
    "Hier in diesem Beispiel schauen wir gemeinsam \"[PokéAPI](https://pokeapi.co/)\" an! Bevor wir loslegen, schauen wir zuerst die Nutzungsregeln:\n",
    "\n",
    ">PokéAPI is free and open to use. It is also very popular. Because of this, we ask every developer to abide by our fair use policy. People not complying with the fair use policy will have their IP address permanently banned.\n",
    "\n",
    ">PokéAPI is primarily an educational tool, and we will not tolerate denial of service attacks preventing people from learning.\n",
    "\n",
    "Rules:\n",
    "\n",
    "- Locally cache resources whenever you request them.\n",
    "- Be nice and friendly to your fellow PokéAPI developers.\n",
    "- If you spot security vulnerabilities act and report them responsibly.\n",
    "\n",
    "\n",
    "Die Nutzungsregeln zu halten ist wichtig. Weil ...\n",
    "\n",
    "Okay! Dann gehen wir die 5 Punkte Schritt für Schritt!\n"
   ]
  },
  {
   "cell_type": "markdown",
   "id": "b5c23c8e-347d-4037-8591-43323eb4c249",
   "metadata": {},
   "source": [
    "## Wie lautet der API-Endpoint?\n",
    "\n",
    "Ein API-Endpoint ist wie ein Tor für API-Aufrufe/Anfrage. Durch den Endpoint empfängt der API-Server die Anfrage.\n",
    "Ohne den API-Endpoint zu wissen, kann man gar keine API-Anfrage losschicken.\n",
    "Ein API-Endpoint sieht wie ein URL aus:\n",
    "\n",
    "```\n",
    "https://pokeapi.co/api/v2/[hier kommt die Anfrage]\n",
    "```\n",
    "\n"
   ]
  },
  {
   "cell_type": "markdown",
   "id": "20f5ec2d-d652-4b03-a8c2-658042776c2f",
   "metadata": {},
   "source": [
    "## Braucht man einen API-Key?\n",
    "\n",
    "Um eine API-Anfrage zu dem API-Server weiterzureichen, braucht man eventuell einen API-Key oder API-Token oder sonst eine Authentizierungsdaten. Viele API-Schnittstelle ist nicht für alle Menschen freigelegt. \n",
    "Damit man von einer geschützten API-Schnittstelle die Rückmeldung erhält, muss man einen API-Key in der API-Anfrage mitschicken.\n",
    "\n",
    "PokéAPI ist, wie in der Beschreibung, eine offene und freie Schnittstelle. Deshalb braucht man hier in diesem Beispiel keinen API-Key!\n",
    "(PokéAPI ist deshalb sehr wertvoll!)"
   ]
  },
  {
   "cell_type": "markdown",
   "id": "b958c2f8-ff81-4ea5-80be-786eb83fb946",
   "metadata": {},
   "source": [
    "## Request methods?\n",
    "\n",
    "Es gibt einige Request-Methode:\n",
    "\n",
    "- GET\n",
    "- POST\n",
    "- DELETE\n",
    "\n",
    "... usw.\n",
    "\n",
    "Diese Request-Methode werden auch als \"HTTP request methods\" bezeichnet. Weitere Information dazu ist [hier](https://developer.mozilla.org/en-US/docs/Web/HTTP/Reference/Methods) zu sehen.\n",
    "\n",
    "Für uns sind hauptsächlich zwei Methoden, GET und POST, interessant. GET wird verwendet, damit man die Daten oder File von dem anderen Server holt. POST-Methode wird verwendet, um eine neue Ressource / einen neuen Eintrag in dem Server zu generieren.\n",
    "\n",
    "Solange man nur einen API-Endpoint und Query-Parameter braucht, verwendet man GET-Methode. Und Bei GET-Methode braucht man keinen Header/Body. Header/Body von einer Anfrage (request) wird später erklärt...\n",
    "\n",
    "Für unser Beispiel \"PokéAPI\" wird nur die GET-Methode verwendet. \n",
    "\n"
   ]
  },
  {
   "cell_type": "markdown",
   "id": "99a9ca49-66e7-49ab-86a5-68ecd1e86ea9",
   "metadata": {},
   "source": [
    "## Wie soll man ein Query formulieren?\n",
    "\n",
    "Für eine Information-Abfrage soll die Abfrage (Query) richgit formuliert werden. Wie eine Abfrage formuliert werden soll, wird durch den API-Anbieter definiert. Das bedeutet, dass unzählige Regeln für API-Abfrage existieren. \n",
    "\n",
    "Um diese Situation zu erleichtern, gibt es Standarisierung wie [IIIF Framework](https://iiif.io/). Darüber hinaus gibt es Query-Sprache wie [GraphQL](https://graphql.org/) oder [SPARQL](https://www.w3.org/TR/sparql11-query/), die die Formulierung der Abfrage regeln.\n",
    "\n",
    "IIIF und SPARQL betrachten wir später...\n",
    "\n",
    "Für unser Beispiel bei PokéAPI haben wir die Dokumentation [hier](https://pokeapi.co/docs/v2).\n",
    "Ja, es ist unübersichtlich, weil man sehr viele Information von dort holen kann.\n",
    "Wenn wir die Information von einem Pokemon finden wollen, sieht es so aus:\n",
    "\n",
    "```\n",
    "# Endpoint für Pokemon-info\n",
    "https://pokeapi.co/api/v2/pokemon/{id or name}/\n",
    "```\n",
    "(Siehe [hier](https://pokeapi.co/docs/v2#pokemon))\n",
    "\n",
    "Für ein GET-Abfrage ohne Authentifikation reicht dieser String als Abfrage:\n",
    "```\n",
    "https://pokeapi.co/api/v2/pokemon/pikachu/\n",
    "```\n",
    "\n",
    "Ob die API auf die Abfrage richtig reagiert, kann man damit testen, indem man die Abfrage in die URL-Leiste eines Browsers eingibt.\n"
   ]
  },
  {
   "cell_type": "code",
   "execution_count": 1,
   "id": "d8265f9c",
   "metadata": {
    "vscode": {
     "languageId": "plaintext"
    }
   },
   "outputs": [
    {
     "data": {
      "text/plain": [
       "200"
      ]
     },
     "execution_count": 1,
     "metadata": {},
     "output_type": "execute_result"
    }
   ],
   "source": [
    "# In Python kann man z.B, mit der Library \"requests\" API-Abfrage behandeln\n",
    "import requests\n",
    "\n",
    "response = requests.get(\"https://pokeapi.co/api/v2/pokemon/pikachu/\")\n",
    "\n",
    "# Wenn der Status \"200\" angezeigt wird, funktioniert die Abfrage.\n",
    "response.status_code\n",
    "\n"
   ]
  },
  {
   "cell_type": "markdown",
   "id": "675972e7-cdf0-4a55-9aa9-d47d19765c31",
   "metadata": {},
   "source": [
    "Der Endpoint von OpenWeather erlaubt den API_KEY als Query-Parameter.\n",
    "\n",
    "\n",
    "Query-Parameter:\n",
    "```\n",
    "lat={lat}&lon={lon}&appid={OPEN_WEATHER_API_KEY}\n",
    "```\n",
    "\n",
    "Zu dem API-Key oder - Token: \n",
    "\n",
    "API-Key/Token ist sehr wichtige Information, weil man damit Vieles anstellen kann. \n",
    "Man muss deshalb unbedingt aufpassen, dass API-Key/Token nicht in dem Programm sichtbar wird!\n"
   ]
  },
  {
   "cell_type": "code",
   "execution_count": 2,
   "id": "e3133778",
   "metadata": {
    "vscode": {
     "languageId": "plaintext"
    }
   },
   "outputs": [
    {
     "data": {
      "text/plain": [
       "200"
      ]
     },
     "execution_count": 2,
     "metadata": {},
     "output_type": "execute_result"
    }
   ],
   "source": [
    "import os\n",
    "from dotenv import load_dotenv\n",
    "import requests\n",
    "\n",
    "\n",
    "load_dotenv()\n",
    "\n",
    "lat = \"47.37174\"\n",
    "lon = \"8.54226\"\n",
    "OPEN_WEATHER_API_KEY = os.getenv(\"OPEN_WEATHER_API_KEY\")\n",
    "\n",
    "api_string = f\"https://api.openweathermap.org/data/2.5/weather?lat={lat}&lon={lon}&appid={OPEN_WEATHER_API_KEY}\"\n",
    "\n",
    "response_weather = requests.get(api_string)\n",
    "response_weather.status_code\n"
   ]
  },
  {
   "cell_type": "markdown",
   "id": "59cda235-80f1-4351-80b7-e11adda55d3d",
   "metadata": {},
   "source": [
    "## Welche Information soll ein Query-Header/-Body enthalten?\n",
    "\n",
    "Im oberen Beispiel konnte man die Authentifizierungsinformation (API-KEY) in den URL hinzufügen. Aber es gibt andere API-Endpoints, bei der die Authentifizierungsinformation im Query-Header verlangt. \n",
    "Der Query-Body wird verwendet, wenn eine etwas grössere Datei zu dem API-Server geschickt werden muss.\n",
    "\n",
    "Hier in diesem Abschnitt muss man nicht darauf achten."
   ]
  },
  {
   "cell_type": "markdown",
   "id": "b8f6828c-e2b2-4ee6-b236-7885d7a2dd4a",
   "metadata": {},
   "source": [
    "## Wie sieht die Antwort aus?\n",
    "\n",
    "Wir wollen ja die Daten/Information durch API-Schnittstelle erhalten. \n",
    "Es ist deshalb sehr wichtig, in welches Format wird die Information zu uns geschickt?"
   ]
  },
  {
   "cell_type": "code",
   "execution_count": 8,
   "id": "069b0905-7695-4326-8317-845aaa05038e",
   "metadata": {},
   "outputs": [
    {
     "name": "stdout",
     "output_type": "stream",
     "text": [
      "[\n",
      "    {\n",
      "        \"ability\": {\n",
      "            \"name\": \"static\",\n",
      "            \"url\": \"https://pokeapi.co/api/v2/ability/9/\"\n",
      "        },\n",
      "        \"is_hidden\": false,\n",
      "        \"slot\": 1\n",
      "    },\n",
      "    {\n",
      "        \"ability\": {\n",
      "            \"name\": \"lightning-rod\",\n",
      "            \"url\": \"https://pokeapi.co/api/v2/ability/31/\"\n",
      "        },\n",
      "        \"is_hidden\": true,\n",
      "        \"slot\": 3\n",
      "    }\n",
      "]\n"
     ]
    }
   ],
   "source": [
    "import json\n",
    "\n",
    "res = response.json()\n",
    "\n",
    "# Wenn man nur die Fähigkeiten von Pikachu gucken will...\n",
    "pikachu_abilities = res[\"abilities\"]\n",
    "print(json.dumps(pikachu_abilities, indent=4))"
   ]
  },
  {
   "cell_type": "code",
   "execution_count": 6,
   "id": "c90f896e-3970-4ccb-9fdf-056e96eefd71",
   "metadata": {},
   "outputs": [
    {
     "name": "stdout",
     "output_type": "stream",
     "text": [
      "{\n",
      "    \"coord\": {\n",
      "        \"lon\": 8.5423,\n",
      "        \"lat\": 47.3717\n",
      "    },\n",
      "    \"weather\": [\n",
      "        {\n",
      "            \"id\": 502,\n",
      "            \"main\": \"Rain\",\n",
      "            \"description\": \"heavy intensity rain\",\n",
      "            \"icon\": \"10n\"\n",
      "        }\n",
      "    ],\n",
      "    \"base\": \"stations\",\n",
      "    \"main\": {\n",
      "        \"temp\": 281.43,\n",
      "        \"feels_like\": 278.44,\n",
      "        \"temp_min\": 280.18,\n",
      "        \"temp_max\": 282.05,\n",
      "        \"pressure\": 1026,\n",
      "        \"humidity\": 91,\n",
      "        \"sea_level\": 1026,\n",
      "        \"grnd_level\": 967\n",
      "    },\n",
      "    \"visibility\": 10000,\n",
      "    \"wind\": {\n",
      "        \"speed\": 5.36,\n",
      "        \"deg\": 244,\n",
      "        \"gust\": 7.15\n",
      "    },\n",
      "    \"rain\": {\n",
      "        \"1h\": 4.86\n",
      "    },\n",
      "    \"clouds\": {\n",
      "        \"all\": 40\n",
      "    },\n",
      "    \"dt\": 1759716089,\n",
      "    \"sys\": {\n",
      "        \"type\": 2,\n",
      "        \"id\": 2019255,\n",
      "        \"country\": \"CH\",\n",
      "        \"sunrise\": 1759728687,\n",
      "        \"sunset\": 1759769770\n",
      "    },\n",
      "    \"timezone\": 7200,\n",
      "    \"id\": 6295493,\n",
      "    \"name\": \"Z\\u00fcrich (Kreis 1) / Lindenhof\",\n",
      "    \"cod\": 200\n",
      "}\n"
     ]
    }
   ],
   "source": [
    "res_wea = response_weather.json()\n",
    "print(json.dumps(res_wea, indent=4))"
   ]
  },
  {
   "cell_type": "markdown",
   "id": "82eb4d77-f88d-41f2-bb18-2748183bc49c",
   "metadata": {},
   "source": [
    "## Quiz\n",
    "\n",
    "Könnt ihr mit PokéAPI und Open Weather API die folgende Information herausfinden?:\n",
    "\n",
    "- Gewicht (weight) vom Pokémon \"Lugia\"\n",
    "- Das aktuelle Wetter in Züricher Bellevue\n",
    "\n",
    "(10 min...)"
   ]
  }
 ],
 "metadata": {
  "kernelspec": {
   "display_name": "Python 3 (ipykernel)",
   "language": "python",
   "name": "python3"
  },
  "language_info": {
   "codemirror_mode": {
    "name": "ipython",
    "version": 3
   },
   "file_extension": ".py",
   "mimetype": "text/x-python",
   "name": "python",
   "nbconvert_exporter": "python",
   "pygments_lexer": "ipython3",
   "version": "3.11.11"
  }
 },
 "nbformat": 4,
 "nbformat_minor": 5
}
