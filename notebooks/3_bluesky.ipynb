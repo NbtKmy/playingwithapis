{
 "cells": [
  {
   "cell_type": "markdown",
   "id": "43cd4859-85f5-4419-b9b2-8abb8112149b",
   "metadata": {},
   "source": [
    "# Daten aus BlueSky\n",
    "\n",
    "BlueSky erlaubt Zugriffe auf seinen Inhalte durch API.\n",
    "\n",
    "Wie die [Dokumentation](https://docs.bsky.app/) zu sehen, gibt es dafür eine praktische Library \"[atproto](https://pypi.org/project/atproto/)\", durch die man die Authentifizierung und die damit verbundene Session verwalten kann. \n",
    "Hier verwenden wir jedoch die schlichte Library \"requests\" statt \"atproto\", damit wir den Authentifizierungsprozess und dann den Prozess des API-Requests sehen können.\n",
    "\n",
    "\n",
    "## Posts suchen\n",
    "\n",
    "Wir verwenden die Funktion Post-Suche. \n",
    "\n",
    ">This endpoint is part of the Bluesky application Lexicon APIs (app.bsky.*). Public endpoints which don't require authentication can be >made directly against the public Bluesky AppView API: https://public.api.bsky.app. Authenticated requests are usually made to the user's >PDS, with automatic service proxying. Authenticated requests can be used for both public and non-public endpoints.\n",
    "\n",
    "https://docs.bsky.app/docs/api/app-bsky-feed-search-posts\n",
    "\n",
    "\n",
    "\n"
   ]
  },
  {
   "cell_type": "code",
   "execution_count": 16,
   "id": "ba7981f6-8fff-4711-828c-82a910fb73e1",
   "metadata": {},
   "outputs": [],
   "source": [
    "from dotenv import load_dotenv\n",
    "import os, time, json, datetime as dt\n",
    "import requests, pandas as pd"
   ]
  },
  {
   "cell_type": "code",
   "execution_count": 17,
   "id": "b6a75a1b-5803-4988-85f1-717ea358ad14",
   "metadata": {},
   "outputs": [
    {
     "data": {
      "text/plain": [
       "True"
      ]
     },
     "execution_count": 17,
     "metadata": {},
     "output_type": "execute_result"
    }
   ],
   "source": [
    "load_dotenv()"
   ]
  },
  {
   "cell_type": "code",
   "execution_count": 18,
   "id": "923c6b00-7ca1-4ef8-9680-66ae602a845c",
   "metadata": {},
   "outputs": [],
   "source": [
    "HANDLE = os.getenv(\"BSKY_HANDLE\")\n",
    "APP_PW = os.getenv(\"BSKY_APP_PASSWORD\")\n",
    "\n",
    "APPVIEW = \"https://public.api.bsky.app\"\n"
   ]
  },
  {
   "cell_type": "code",
   "execution_count": 19,
   "id": "349719c6-6615-427b-943c-f488262ea109",
   "metadata": {},
   "outputs": [],
   "source": [
    "def resolve_handle_to_did(handle: str) -> str:\n",
    "    r = requests.get(f\"{APPVIEW}/xrpc/com.atproto.identity.resolveHandle\",\n",
    "                     params={\"handle\": handle}, timeout=20)\n",
    "    r.raise_for_status()\n",
    "    return r.json()[\"did\"]\n",
    "\n",
    "def get_pds_from_did(did: str) -> str:\n",
    "    r = requests.get(f\"https://plc.directory/{did}\", timeout=20)\n",
    "    r.raise_for_status()\n",
    "    doc = r.json()\n",
    "    for s in doc.get(\"service\", []):\n",
    "        if s.get(\"id\",\"\").endswith(\"#atproto_pds\"):\n",
    "            return s[\"serviceEndpoint\"].rstrip(\"/\")\n",
    "    raise RuntimeError(\"PDS endpoint not found in DID doc\")\n",
    "\n",
    "def create_session(pds: str, identifier: str, app_pw: str) -> str:\n",
    "    r = requests.post(f\"{pds}/xrpc/com.atproto.server.createSession\",\n",
    "                      json={\"identifier\": identifier, \"password\": app_pw},\n",
    "                      timeout=30)\n",
    "    print(\"createSession:\", r.status_code, r.text[:200])\n",
    "    r.raise_for_status()\n",
    "    return r.json()[\"accessJwt\"]\n",
    "\n",
    "def search_posts(q: str, limit=1000, access=None, pds=None):\n",
    "    headers = {\"Authorization\": f\"Bearer {access}\"} if access else {}\n",
    "    out, cursor = [], None\n",
    "    while len(out) < limit:\n",
    "        params = {\"q\": q, \"limit\": 100}\n",
    "        if cursor: params[\"cursor\"] = cursor\n",
    "        \n",
    "        url = f\"{pds}/xrpc/app.bsky.feed.searchPosts\" if pds else f\"{APPVIEW}/xrpc/app.bsky.feed.searchPosts\"\n",
    "        r = requests.get(url, headers=headers, params=params, timeout=30)\n",
    "        if r.status_code == 403 and access:\n",
    "            r = requests.get(f\"{APPVIEW}/xrpc/app.bsky.feed.searchPosts\",\n",
    "                             headers=headers, params=params, timeout=30)\n",
    "        if r.status_code == 429:\n",
    "            time.sleep(1.5); continue\n",
    "        r.raise_for_status()\n",
    "        data = r.json()\n",
    "        posts = data.get(\"posts\", [])\n",
    "        out.extend(posts)\n",
    "        cursor = data.get(\"cursor\")\n",
    "        if not cursor or not posts: break\n",
    "        time.sleep(0.3)\n",
    "    return out[:limit]"
   ]
  },
  {
   "cell_type": "code",
   "execution_count": 20,
   "id": "60632bf6-3564-44e3-b2a8-fd52356f8b53",
   "metadata": {},
   "outputs": [
    {
     "name": "stdout",
     "output_type": "stream",
     "text": [
      "createSession: 200 {\"did\":\"did:plc:z4gbcpr5mbkblvaybyj7lb4o\",\"didDoc\":{\"@context\":[\"https://www.w3.org/ns/did/v1\",\"https://w3id.org/security/multikey/v1\",\"https://w3id.org/security/suites/secp256k1-2019/v1\"],\"id\":\"did:p\n",
      "Fetched: 9709\n"
     ]
    }
   ],
   "source": [
    "did = resolve_handle_to_did(HANDLE)          \n",
    "pds = get_pds_from_did(did)                  \n",
    "access = create_session(pds, HANDLE, APP_PW) \n",
    "rows = search_posts(\"Rechtsextremismus\",\n",
    "                    limit=10000, access=access, pds=pds)\n",
    "print(\"Fetched:\", len(rows))"
   ]
  },
  {
   "cell_type": "code",
   "execution_count": 21,
   "id": "c012370d-e421-4895-9bbc-55f9a3ad73ae",
   "metadata": {},
   "outputs": [],
   "source": [
    "def create_dataframe(posts, since=None, until=None):\n",
    "\n",
    "    seen = set()\n",
    "    out = []\n",
    "\n",
    "    def within_window(rec_created_at: str):\n",
    "        if not (since or until):\n",
    "            return True\n",
    "        t = dt.datetime.fromisoformat(rec_created_at.replace(\"Z\",\"+00:00\"))\n",
    "        ok = True\n",
    "        if since: ok &= (t >= since)\n",
    "        if until: ok &= (t <  until)\n",
    "        return ok\n",
    "\n",
    "    for p in posts:\n",
    "        uri = p.get(\"uri\")\n",
    "        if uri in seen: continue\n",
    "        rec = p.get(\"record\", {})\n",
    "        if not within_window(rec.get(\"createdAt\", \"1970-01-01T00:00:00Z\")):\n",
    "            continue\n",
    "        out.append({\n",
    "            \"uri\": uri,\n",
    "            \"cid\": p.get(\"cid\"),\n",
    "            \"author\": p.get(\"author\", {}).get(\"handle\"),\n",
    "            \"text\": rec.get(\"text\", \"\"),\n",
    "            \"createdAt\": rec.get(\"createdAt\"),\n",
    "            \"reply_parent\": (rec.get(\"reply\",{}) or {}).get(\"parent\",{}).get(\"uri\"),\n",
    "            \"langs\": rec.get(\"langs\"),\n",
    "            \"labels\": [l.get(\"val\") for l in (p.get(\"labels\") or [])],\n",
    "            \"likeCount\": (p.get(\"likeCount\") or 0),\n",
    "            \"repostCount\": (p.get(\"repostCount\") or 0),\n",
    "            \"quoteCount\": (p.get(\"quoteCount\") or 0),\n",
    "            \"indexedAt\": p.get(\"indexedAt\")\n",
    "        })\n",
    "\n",
    "        seen.add(uri)\n",
    "        \n",
    "    return pd.DataFrame(out)"
   ]
  },
  {
   "cell_type": "code",
   "execution_count": 26,
   "id": "904b7528-42d5-4e0e-98f7-a56ff856b86a",
   "metadata": {},
   "outputs": [],
   "source": [
    "until = dt.datetime.utcnow().replace(tzinfo=dt.timezone.utc)\n",
    "since = until - dt.timedelta(days=150)\n",
    "df = create_dataframe(rows, since, until)"
   ]
  },
  {
   "cell_type": "code",
   "execution_count": null,
   "id": "fb8b8464-3449-401b-84f9-a387ace3b863",
   "metadata": {},
   "outputs": [],
   "source": [
    "df.head()"
   ]
  },
  {
   "cell_type": "code",
   "execution_count": 28,
   "id": "79d4e43f-943d-4d71-b45d-0a9b4fd41912",
   "metadata": {},
   "outputs": [],
   "source": [
    "df.to_csv(\"test_data.csv\")"
   ]
  }
 ],
 "metadata": {
  "kernelspec": {
   "display_name": "Python 3 (ipykernel)",
   "language": "python",
   "name": "python3"
  },
  "language_info": {
   "codemirror_mode": {
    "name": "ipython",
    "version": 3
   },
   "file_extension": ".py",
   "mimetype": "text/x-python",
   "name": "python",
   "nbconvert_exporter": "python",
   "pygments_lexer": "ipython3",
   "version": "3.11.11"
  }
 },
 "nbformat": 4,
 "nbformat_minor": 5
}
