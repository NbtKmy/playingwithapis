{
 "cells": [
  {
   "cell_type": "markdown",
   "id": "c74c7752-d49e-4627-9390-ce3121d94e7e",
   "metadata": {},
   "source": [
    "# APIs für Kultur und Wissenschaft: SPARQL, IIIF & weitere API-Schnittstelle verstehen\n",
    "\n",
    "## Was ist API?\n",
    "\n",
    "**API** steht für **Application Programming Interface** – auf Deutsch: *Programmierschnittstelle*.  \n",
    "Eine API ist eine **Schnittstelle zwischen zwei Systemen**, die es ermöglicht, Daten oder Funktionen **automatisch auszutauschen**, ohne dass Menschen manuell eingreifen müssen.\n",
    "\n",
    "Man kann sich eine API wie ein **Vertrag oder eine Brücke** zwischen Programmen vorstellen:  \n",
    "Ein System stellt bestimmte **Daten oder Dienste** zur Verfügung, und ein anderes System kann diese **nach festen Regeln abrufen oder nutzen**.\n",
    "\n",
    "## Warum sind APIs wichtig?\n",
    "\n",
    "- Sie ermöglichen den Zugriff auf Datenquellen (z. B. Wikidata, Europeana, YouTube).\n",
    "\n",
    "- Sie fördern Interoperabilität – verschiedene Systeme können miteinander „sprechen“.\n",
    "\n",
    "- Sie machen Daten wiederverwendbar und unterstützen automatisierte Prozesse.\n",
    "\n",
    "- In der Forschung und Lehre erleichtern sie Analyse, Visualisierung und Reproduktion von Ergebnissen.\n",
    "\n",
    "## Kurz...\n",
    "\n",
    "APIs sind das Rückgrat der modernen digitalen Kommunikation.\n",
    "Ob in Apps, Forschungsprojekten oder im Semantic Web – sie machen den Austausch und die Nutzung von Wissen über Systemgrenzen hinweg erst möglich.\n",
    "\n",
    "## Wie verwendet man eine API?\n",
    "\n",
    "Um eine API-Schnittstelle zu verwenden, braucht man die folgenden Sachen zu wissen:\n",
    "\n",
    "- Wie lautet der API-Entpoint?\n",
    "- Braucht man einen API-Key?\n",
    "- POST oder GET?\n",
    "- Wie soll man ein Query formulieren?\n",
    "- Welche Information soll ein Query-Header/-Body enthalten?\n",
    "- Wie sieht die Antwort aus?\n",
    "\n",
    "... Wir sehen hier Schritt für Schritt\n",
    "\n",
    "\n"
   ]
  }
 ],
 "metadata": {
  "kernelspec": {
   "display_name": "Python 3 (ipykernel)",
   "language": "python",
   "name": "python3"
  },
  "language_info": {
   "codemirror_mode": {
    "name": "ipython",
    "version": 3
   },
   "file_extension": ".py",
   "mimetype": "text/x-python",
   "name": "python",
   "nbconvert_exporter": "python",
   "pygments_lexer": "ipython3",
   "version": "3.11.11"
  }
 },
 "nbformat": 4,
 "nbformat_minor": 5
}
