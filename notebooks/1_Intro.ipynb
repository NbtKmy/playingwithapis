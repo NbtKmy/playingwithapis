{
 "cells": [
  {
   "cell_type": "markdown",
   "id": "c74c7752-d49e-4627-9390-ce3121d94e7e",
   "metadata": {},
   "source": [
    "# APIs für Kultur und Wissenschaft: SPARQL, IIIF & weitere API-Schnittstelle verstehen\n",
    "\n",
    "## Was ist API?\n",
    "\n",
    "## Wie verwendet man eine API?\n",
    "\n",
    "Um eine API-Schnittstelle zu verwenden, braucht man die folgenden Sachen zu wissen:\n",
    "\n",
    "- Wie lautet der API-Entpoint?\n",
    "- Braucht man einen API-Key?\n",
    "- POST oder GET?\n",
    "- Wie soll man ein Query formulieren?\n",
    "- Welche Information soll ein Query-Header/-Body enthalten?\n",
    "- Wie sieht die Antwort aus?\n",
    "\n",
    "... Wir sehen hier Schritt für Schritt\n",
    "\n",
    "\n"
   ]
  },
  {
   "cell_type": "markdown",
   "id": "6d544cbc-2de9-4899-abda-a66b6834ed08",
   "metadata": {},
   "source": [
    "### POST oder GET?\n",
    "\n",
    "Solange man nur einen API-Endpoint und Query-Parameter braucht, verwendet man GET-Methode.\n",
    "Und Bei GET-Methode braucht man keinen Header/Body."
   ]
  },
  {
   "cell_type": "markdown",
   "id": "7e52329a-c849-4cc6-aab1-7b3679dda7a7",
   "metadata": {},
   "source": [
    "## Unterschiedliche Abfragesprachen\n",
    "\n",
    "### RESTful APIs\n",
    "RESTful APIs mit Query-Parametern: Dies ist die gebräuchlichste Methode. Es gibt keine standardisierte \"Sprache\", aber die Abfrage erfolgt über URL-Parameter. Zum Beispiel: https://api.example.com/users?name=john&city=berlin. Die Möglichkeiten sind hier begrenzt und hängen stark von der jeweiligen API-Implementierung ab.\n",
    "\n",
    "### SPARQL (SPARQL Protocol and RDF Query Language)\n",
    "\n",
    "Zweck: SPARQL ist eine standardisierte Abfragesprache für Daten im Resource Description Framework (RDF)-Format. Es ist die \"SQL des Semantic Web\".\n",
    "\n",
    "Anwendungsbereich: Es wird hauptsächlich für Wissensgraphen und vernetzte Daten verwendet, die als Tripel (Subjekt-Prädikat-Objekt) organisiert sind.\n",
    "\n",
    "Funktionalität: Mit SPARQL kannst du komplexe Abfragen über Beziehungen und Verknüpfungen zwischen verschiedenen Datenpunkten stellen. Zum Beispiel: \"Finde alle Städte, die die Hauptstadt eines Landes sind, in dem eine bestimmte Person geboren wurde.\" Die Abfrage ist datenorientiert und basiert auf dem Graphenmodell.\n",
    "\n",
    "### IIIF (International Image Interoperability Framework)\n",
    "Zweck: IIIF ist ein Satz von Standards für die Präsentation und den Zugriff auf hochauflösende digitale Bilder und audiovisuelle Medien. Es ist keine allgemeine Abfragesprache.\n",
    "\n",
    "Anwendungsbereich: Es wird von Bibliotheken, Archiven, Museen und Forschungszentren genutzt, um Kulturerbe-Digitalisate (z.B. digitalisierte Buchseiten, Gemälde) online zugänglich zu machen.\n",
    "\n",
    "Funktionalität: IIIF besteht aus mehreren APIs, die jeweils einen bestimmten Zweck erfüllen:\n",
    "\n",
    "Image API: Ermöglicht das Anfordern von Bildausschnitten, Skalierungen, Rotationen oder Farbkorrekturen.\n",
    "\n",
    "Presentation API: Definiert, wie eine Sammlung von Bildern (z.B. ein ganzes Buch oder Archiv) präsentiert wird, einschließlich Metadaten und der Reihenfolge der Seiten.\n",
    "\n",
    "Search API: Ermöglicht die Suche innerhalb des Inhalts (z.B. Volltextsuche in den Transkripten eines Buches).\n",
    "\n",
    "Authentication API: Regelt den Zugriff auf geschützte Inhalte.\n",
    "\n",
    "Während SPARQL ein generelles Werkzeug zur Abfrage von Graphendaten ist, ist IIIF eine spezialisierte Spezifikation für Medien und deren Metadaten. SPARQL fragt die Beziehungen in den Daten ab, während IIIF die Struktur und Manipulation von Bildern und ihrer Präsentation regelt.\n"
   ]
  }
 ],
 "metadata": {
  "kernelspec": {
   "display_name": "Python 3 (ipykernel)",
   "language": "python",
   "name": "python3"
  },
  "language_info": {
   "codemirror_mode": {
    "name": "ipython",
    "version": 3
   },
   "file_extension": ".py",
   "mimetype": "text/x-python",
   "name": "python",
   "nbconvert_exporter": "python",
   "pygments_lexer": "ipython3",
   "version": "3.11.11"
  }
 },
 "nbformat": 4,
 "nbformat_minor": 5
}
