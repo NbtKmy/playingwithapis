{
 "cells": [
  {
   "cell_type": "markdown",
   "id": "c74c7752-d49e-4627-9390-ce3121d94e7e",
   "metadata": {},
   "source": [
    "# APIs für Kultur und Wissenschaft: SPARQL, IIIF & weitere API-Schnittstelle verstehen\n",
    "\n",
    "## Was ist API?\n",
    "\n",
    "## Wie verwendet man eine API?\n",
    "\n",
    "Um eine API-Schnittstelle zu verwenden, braucht man die folgenden Sachen zu wissen:\n",
    "\n",
    "- Wie lautet der API-Entpoint?\n",
    "- Braucht man einen API-Key?\n",
    "- POST oder GET?\n",
    "- Wie soll man ein Query formulieren?\n",
    "- Welche Information soll ein Query-Header/-Body enthalten?\n",
    "- Wie sieht die Antwort aus?\n",
    "\n",
    "... Wir sehen hier Schritt für Schritt\n",
    "\n",
    "\n"
   ]
  },
  {
   "cell_type": "markdown",
   "id": "7e52329a-c849-4cc6-aab1-7b3679dda7a7",
   "metadata": {},
   "source": [
    "## Unterschiedliche Abfragesprachen\n",
    "\n",
    "### RESTful APIs\n",
    "RESTful APIs mit Query-Parametern: Dies ist die gebräuchlichste Methode. Es gibt keine standardisierte \"Sprache\", aber die Abfrage erfolgt über URL-Parameter. Zum Beispiel: https://api.example.com/users?name=john&city=berlin. Die Möglichkeiten sind hier begrenzt und hängen stark von der jeweiligen API-Implementierung ab.\n",
    "\n",
    "\n",
    "\n"
   ]
  }
 ],
 "metadata": {
  "kernelspec": {
   "display_name": "Python 3 (ipykernel)",
   "language": "python",
   "name": "python3"
  },
  "language_info": {
   "codemirror_mode": {
    "name": "ipython",
    "version": 3
   },
   "file_extension": ".py",
   "mimetype": "text/x-python",
   "name": "python",
   "nbconvert_exporter": "python",
   "pygments_lexer": "ipython3",
   "version": "3.11.11"
  }
 },
 "nbformat": 4,
 "nbformat_minor": 5
}
